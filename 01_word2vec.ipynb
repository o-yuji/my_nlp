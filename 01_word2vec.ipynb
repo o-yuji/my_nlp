{
 "cells": [
  {
   "cell_type": "code",
   "execution_count": 1,
   "metadata": {},
   "outputs": [],
   "source": [
    "import re,pickle\n",
    "from janome.tokenizer import Tokenizer"
   ]
  },
  {
   "cell_type": "code",
   "execution_count": 2,
   "metadata": {},
   "outputs": [],
   "source": [
    "def textToWords(text):\n",
    "    text = re.sub(\"《[^》]+》\",\"\",text)\n",
    "    text = re.sub(\"【[^]+]】\",\"\",text)\n",
    "    text = re.sub(\"[「」　|\\n]\",\"\",text)\n",
    "\n",
    "    seperator = \"。\"\n",
    "    text_list = text.split(seperator)\n",
    "    text_list = [el + seperator for el in text_list]\n",
    "\n",
    "    t = Tokenizer()\n",
    "    words = []\n",
    "    for sentence in text_list:\n",
    "        words.append(list(t.tokenize(sentence,wakati=True)))\n",
    "\n",
    "    with open(\"./data/newWords.pickle\",\"wb\") as f:\n",
    "        pickle.dump(words,f)\n"
   ]
  },
  {
   "cell_type": "code",
   "execution_count": 3,
   "metadata": {},
   "outputs": [],
   "source": [
    "with open(\"./data/wagahaiwa_nekodearu.txt\",mode=\"r\",encoding=\"utf-8\") as f:\n",
    "  wagahai_original = f.read()"
   ]
  },
  {
   "cell_type": "code",
   "execution_count": 4,
   "metadata": {},
   "outputs": [],
   "source": [
    "textToWords(wagahai_original)"
   ]
  },
  {
   "cell_type": "code",
   "execution_count": 5,
   "metadata": {},
   "outputs": [
    {
     "name": "stdout",
     "output_type": "stream",
     "text": [
      "[['吾輩', 'は', '猫', 'で', 'ある', '。'], ['名前', 'は', 'まだ', '無い', '。']]\n"
     ]
    }
   ],
   "source": [
    "with open(\"./data/newWords.pickle\",\"rb\") as f:\n",
    "    wagahai_words = pickle.load(f)\n",
    "print(wagahai_words[:2])"
   ]
  },
  {
   "cell_type": "code",
   "execution_count": 6,
   "metadata": {},
   "outputs": [],
   "source": [
    "from gensim.models import word2vec"
   ]
  },
  {
   "cell_type": "code",
   "execution_count": 7,
   "metadata": {},
   "outputs": [],
   "source": [
    "model = word2vec.Word2Vec(\n",
    "    wagahai_words,\n",
    "    vector_size = 100,\n",
    "    min_count = 5,\n",
    "    window = 5,\n",
    "    epochs = 20,\n",
    "    sg = 0,\n",
    ")"
   ]
  },
  {
   "cell_type": "code",
   "execution_count": 8,
   "metadata": {},
   "outputs": [
    {
     "name": "stdout",
     "output_type": "stream",
     "text": [
      "(3350, 100)\n",
      "[[ 0.7120657   0.9290544  -0.01387589 ...  0.3441443   0.07925468\n",
      "   1.3528777 ]\n",
      " [ 0.8746206  -0.12597567  0.2200162  ... -0.01700269 -1.2211871\n",
      "   0.4270016 ]\n",
      " [ 0.10323434  0.9955892  -2.1541984  ...  1.0210408   0.50952953\n",
      "  -0.54835117]\n",
      " ...\n",
      " [ 0.03898301  0.20178224  0.21429719 ... -0.14357395  0.07893235\n",
      "  -0.14259668]\n",
      " [ 0.04930685  0.19253528 -0.05725256 ... -0.12810715 -0.02253911\n",
      "   0.00785525]\n",
      " [ 0.00791195  0.2127562  -0.06422442 ... -0.12108771 -0.07557514\n",
      "   0.0074276 ]]\n"
     ]
    }
   ],
   "source": [
    "print(model.wv.vectors.shape)\n",
    "print(model.wv.vectors)"
   ]
  },
  {
   "cell_type": "code",
   "execution_count": 9,
   "metadata": {},
   "outputs": [
    {
     "name": "stdout",
     "output_type": "stream",
     "text": [
      "3350\n",
      "['の', '。', 'て', '、']\n"
     ]
    }
   ],
   "source": [
    "print(len(model.wv.index_to_key))\n",
    "print(model.wv.index_to_key[:4])"
   ]
  },
  {
   "cell_type": "code",
   "execution_count": 10,
   "metadata": {},
   "outputs": [
    {
     "name": "stdout",
     "output_type": "stream",
     "text": [
      "[ 0.7120657   0.9290544  -0.01387589  0.8431612  -0.28564057 -1.5449731\n",
      "  1.1611814   0.7183047  -0.28267118  0.04394454  0.24095774 -0.4776052\n",
      " -0.39154112  0.3174479  -0.8414111   0.40956867 -0.08599903 -0.42737916\n",
      " -0.6340406  -0.12286481  0.10612803 -0.34313044  0.8747316   0.06452833\n",
      "  0.53198206 -0.21549374  0.60858375 -0.05527045 -0.54901123 -0.49158138\n",
      " -0.25172132 -0.01307109  0.375001    0.5309404   0.07656481 -0.08895757\n",
      "  0.3327615  -0.5438785  -0.11015219 -1.0861014  -0.8979848   0.39977914\n",
      " -0.2594511   0.2671707  -0.66395503 -0.69032395 -0.1086839   0.24756001\n",
      " -0.53718483  0.37004802  0.04115601  1.091614   -0.26160043  0.14846142\n",
      "  0.41558516 -0.917943    0.50750005 -0.5062759  -0.36552373  0.15128836\n",
      " -0.503548    0.48603344 -0.5492006  -0.35823166  0.00953872 -0.01086549\n",
      " -0.20687822  0.19075246  0.01313731  0.40030032 -0.19919592  0.9205057\n",
      " -0.23445487 -0.57850343  0.02226331  0.7280019  -0.21577698  0.48628312\n",
      " -0.21845183 -0.11362222 -0.10200728  0.48045012  1.1870958  -0.00319034\n",
      " -0.31650937  0.15498133  0.9581296  -1.0213081  -0.65548694  0.6103333\n",
      "  0.16859433  0.57971615  0.17395568  0.6986394   1.6277047   0.75048405\n",
      "  0.17605858  0.3441443   0.07925468  1.3528777 ]\n",
      "[ 0.7120657   0.9290544  -0.01387589  0.8431612  -0.28564057 -1.5449731\n",
      "  1.1611814   0.7183047  -0.28267118  0.04394454  0.24095774 -0.4776052\n",
      " -0.39154112  0.3174479  -0.8414111   0.40956867 -0.08599903 -0.42737916\n",
      " -0.6340406  -0.12286481  0.10612803 -0.34313044  0.8747316   0.06452833\n",
      "  0.53198206 -0.21549374  0.60858375 -0.05527045 -0.54901123 -0.49158138\n",
      " -0.25172132 -0.01307109  0.375001    0.5309404   0.07656481 -0.08895757\n",
      "  0.3327615  -0.5438785  -0.11015219 -1.0861014  -0.8979848   0.39977914\n",
      " -0.2594511   0.2671707  -0.66395503 -0.69032395 -0.1086839   0.24756001\n",
      " -0.53718483  0.37004802  0.04115601  1.091614   -0.26160043  0.14846142\n",
      "  0.41558516 -0.917943    0.50750005 -0.5062759  -0.36552373  0.15128836\n",
      " -0.503548    0.48603344 -0.5492006  -0.35823166  0.00953872 -0.01086549\n",
      " -0.20687822  0.19075246  0.01313731  0.40030032 -0.19919592  0.9205057\n",
      " -0.23445487 -0.57850343  0.02226331  0.7280019  -0.21577698  0.48628312\n",
      " -0.21845183 -0.11362222 -0.10200728  0.48045012  1.1870958  -0.00319034\n",
      " -0.31650937  0.15498133  0.9581296  -1.0213081  -0.65548694  0.6103333\n",
      "  0.16859433  0.57971615  0.17395568  0.6986394   1.6277047   0.75048405\n",
      "  0.17605858  0.3441443   0.07925468  1.3528777 ]\n"
     ]
    }
   ],
   "source": [
    "print(model.wv.vectors[0])\n",
    "print(model.wv.__getitem__(\"の\"))"
   ]
  },
  {
   "cell_type": "code",
   "execution_count": 11,
   "metadata": {},
   "outputs": [
    {
     "name": "stdout",
     "output_type": "stream",
     "text": [
      "[('人間', 0.7354174852371216), ('教師', 0.7237818241119385), ('恋', 0.6710265874862671), ('芸術', 0.6575531959533691), ('戦争', 0.6448022127151489), ('傾向', 0.6438324451446533), ('彼等', 0.6406911015510559), ('水彩', 0.6373931169509888), ('君子', 0.6294218897819519), ('本人', 0.6265374422073364)]\n"
     ]
    }
   ],
   "source": [
    "print(model.wv.most_similar(\"猫\"))"
   ]
  },
  {
   "cell_type": "code",
   "execution_count": 12,
   "metadata": {},
   "outputs": [],
   "source": [
    "import numpy as np"
   ]
  },
  {
   "cell_type": "code",
   "execution_count": 13,
   "metadata": {},
   "outputs": [
    {
     "name": "stdout",
     "output_type": "stream",
     "text": [
      "0.7354175\n"
     ]
    }
   ],
   "source": [
    "a = model.wv.__getitem__('猫')\n",
    "b = model.wv.__getitem__('人間')\n",
    "cos_sim = np.dot(a,b)/np.linalg.norm(a)/np.linalg.norm(b)\n",
    "print(cos_sim)"
   ]
  },
  {
   "cell_type": "code",
   "execution_count": 14,
   "metadata": {},
   "outputs": [
    {
     "data": {
      "text/plain": [
       "[('彼等', 0.7480913400650024),\n",
       " ('世間', 0.74677574634552),\n",
       " ('事実', 0.7283207178115845),\n",
       " ('君子', 0.7270220518112183),\n",
       " ('戦争', 0.723979115486145),\n",
       " ('者', 0.717056393623352),\n",
       " ('傾向', 0.7163284420967102),\n",
       " ('逆上', 0.7067831754684448),\n",
       " ('教師', 0.705712080001831),\n",
       " ('充分', 0.6999576091766357)]"
      ]
     },
     "execution_count": 14,
     "metadata": {},
     "output_type": "execute_result"
    }
   ],
   "source": [
    "model.wv.most_similar(positive=['猫','人間'])"
   ]
  },
  {
   "cell_type": "code",
   "execution_count": 15,
   "metadata": {},
   "outputs": [
    {
     "data": {
      "text/plain": [
       "[('教師', 0.7346369028091431),\n",
       " ('芸術', 0.6949732899665833),\n",
       " ('恋', 0.6397367119789124),\n",
       " ('充分', 0.6005122065544128),\n",
       " ('実業', 0.5831262469291687),\n",
       " ('出来る', 0.5781002640724182),\n",
       " ('的', 0.5722547769546509),\n",
       " ('智識', 0.5705852508544922),\n",
       " ('君子', 0.5703545808792114),\n",
       " ('世間', 0.5653780698776245)]"
      ]
     },
     "execution_count": 15,
     "metadata": {},
     "output_type": "execute_result"
    }
   ],
   "source": [
    "model.wv.most_similar(positive=['人間','猫'],negative=['夢'])"
   ]
  },
  {
   "cell_type": "code",
   "execution_count": 16,
   "metadata": {},
   "outputs": [
    {
     "data": {
      "text/plain": [
       "[('えらい', 0.6565906405448914),\n",
       " ('嫌', 0.6372228860855103),\n",
       " ('いえ', 0.6282118558883667),\n",
       " ('あれ', 0.6207963228225708),\n",
       " ('月並', 0.588832676410675),\n",
       " ('生徒', 0.5778862833976746),\n",
       " ('実業', 0.5764115452766418),\n",
       " ('金田', 0.5702313184738159),\n",
       " ('芸術', 0.5681326389312744),\n",
       " ('しかし', 0.5670684576034546)]"
      ]
     },
     "execution_count": 16,
     "metadata": {},
     "output_type": "execute_result"
    }
   ],
   "source": [
    "model.wv.most_similar(positive=['教師'],negative=['夢'])"
   ]
  },
  {
   "cell_type": "code",
   "execution_count": null,
   "metadata": {},
   "outputs": [],
   "source": []
  }
 ],
 "metadata": {
  "kernelspec": {
   "display_name": "Python 3",
   "language": "python",
   "name": "python3"
  },
  "language_info": {
   "codemirror_mode": {
    "name": "ipython",
    "version": 3
   },
   "file_extension": ".py",
   "mimetype": "text/x-python",
   "name": "python",
   "nbconvert_exporter": "python",
   "pygments_lexer": "ipython3",
   "version": "3.10.1"
  },
  "orig_nbformat": 4
 },
 "nbformat": 4,
 "nbformat_minor": 2
}
