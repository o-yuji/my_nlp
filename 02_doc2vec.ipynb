{
 "cells": [
  {
   "cell_type": "code",
   "execution_count": 6,
   "metadata": {},
   "outputs": [],
   "source": [
    "import pickle"
   ]
  },
  {
   "cell_type": "code",
   "execution_count": 7,
   "metadata": {},
   "outputs": [
    {
     "name": "stdout",
     "output_type": "stream",
     "text": [
      "[['吾輩', 'は', '猫', 'で', 'ある', '。'], ['名前', 'は', 'まだ', '無い', '。']]\n"
     ]
    }
   ],
   "source": [
    "with open('./data/newWords.pickle','rb') as f:\n",
    "    wagahai_words = pickle.load(f)\n",
    "\n",
    "print(wagahai_words[:2])"
   ]
  },
  {
   "cell_type": "code",
   "execution_count": 9,
   "metadata": {},
   "outputs": [],
   "source": [
    "from gensim.models.doc2vec import Doc2Vec\n",
    "from gensim.models.doc2vec import TaggedDocument"
   ]
  },
  {
   "cell_type": "code",
   "execution_count": 10,
   "metadata": {},
   "outputs": [],
   "source": [
    "tagged_documents = []\n",
    "for i,sentence in enumerate(wagahai_words):\n",
    "    tagged_documents.append(TaggedDocument(sentence,[i]))"
   ]
  },
  {
   "cell_type": "code",
   "execution_count": 11,
   "metadata": {},
   "outputs": [
    {
     "name": "stdout",
     "output_type": "stream",
     "text": [
      "[TaggedDocument(words=['吾輩', 'は', '猫', 'で', 'ある', '。'], tags=[0]), TaggedDocument(words=['名前', 'は', 'まだ', '無い', '。'], tags=[1]), TaggedDocument(words=['どこ', 'で', '生れ', 'た', 'か', 'とんと', '見当', 'が', 'つか', 'ぬ', '。'], tags=[2]), TaggedDocument(words=['何', 'でも', '薄暗い', 'じめじめ', 'し', 'た', '所', 'で', 'ニャーニャー', '泣い', 'て', 'いた事', 'だけ', 'は', '記憶', 'し', 'て', 'いる', '。'], tags=[3])]\n"
     ]
    }
   ],
   "source": [
    "print(tagged_documents[:4])"
   ]
  },
  {
   "cell_type": "code",
   "execution_count": 13,
   "metadata": {},
   "outputs": [],
   "source": [
    "model = Doc2Vec(\n",
    "    documents = tagged_documents,\n",
    "    vector_size = 100,\n",
    "    min_count= 5,\n",
    "    window = 5,\n",
    "    epochs=20,\n",
    "    dm=0\n",
    ")"
   ]
  },
  {
   "cell_type": "code",
   "execution_count": 14,
   "metadata": {},
   "outputs": [
    {
     "name": "stdout",
     "output_type": "stream",
     "text": [
      "['吾輩', 'は', '猫', 'で', 'ある', '。']\n",
      "[-0.05694592 -0.10768415  0.06092687 -0.07005025  0.07951012 -0.01898823\n",
      " -0.00639521 -0.09498354 -0.1514203  -0.02218504 -0.11057471  0.02232671\n",
      "  0.06509116  0.09174047 -0.06930096  0.01630166  0.2650733   0.07358263\n",
      " -0.06848843 -0.01966339  0.02923599  0.06491271  0.09157076 -0.0304517\n",
      " -0.01462851 -0.06020929  0.05002998 -0.08314961  0.03582189 -0.11995565\n",
      "  0.08803667  0.07953701 -0.03327998  0.0821318   0.11719333  0.02478039\n",
      "  0.05355937  0.09888778  0.00349194 -0.0201662  -0.09460276 -0.02861323\n",
      "  0.097088    0.01008376 -0.08317432 -0.0713301   0.03666933 -0.08484616\n",
      " -0.10750551  0.08941787 -0.08214489  0.0088041   0.12421365 -0.05712252\n",
      " -0.10168695 -0.06654394 -0.04635035 -0.01951204  0.04937891 -0.04740972\n",
      "  0.00971532 -0.04495509  0.00944145 -0.03902408  0.08039629 -0.03727196\n",
      "  0.12019601 -0.13654433  0.04332953 -0.0260627   0.07217104  0.05777895\n",
      " -0.05203722  0.05515053  0.00034963  0.06360128  0.00060248 -0.02561618\n",
      "  0.00796724  0.0377259  -0.07846803  0.02708433 -0.00806915 -0.00870942\n",
      "  0.11346324 -0.04818049 -0.09380637 -0.12810718 -0.02068336  0.10966267\n",
      "  0.04674197  0.08183651 -0.14447612  0.0886694   0.09443446 -0.10624728\n",
      "  0.09413552 -0.10927026 -0.13063276  0.07846968]\n"
     ]
    },
    {
     "name": "stderr",
     "output_type": "stream",
     "text": [
      "C:\\Users\\yuji_\\AppData\\Local\\Temp\\ipykernel_11104\\4073117934.py:2: DeprecationWarning: Call to deprecated `docvecs` (The `docvecs` property has been renamed `dv`.).\n",
      "  print(model.docvecs[0])\n"
     ]
    }
   ],
   "source": [
    "print(wagahai_words[0])\n",
    "print(model.docvecs[0])"
   ]
  },
  {
   "cell_type": "code",
   "execution_count": 15,
   "metadata": {},
   "outputs": [
    {
     "name": "stdout",
     "output_type": "stream",
     "text": [
      "[(5886, 0.9932093620300293), (530, 0.991716206073761), (5606, 0.9912551045417786), (425, 0.9912354946136475), (3605, 0.9904828667640686), (115, 0.9902539253234863), (3783, 0.9899289608001709), (2794, 0.9896342158317566), (2491, 0.9895678162574768), (3544, 0.98943030834198)]\n"
     ]
    },
    {
     "name": "stderr",
     "output_type": "stream",
     "text": [
      "C:\\Users\\yuji_\\AppData\\Local\\Temp\\ipykernel_11104\\2327296424.py:1: DeprecationWarning: Call to deprecated `docvecs` (The `docvecs` property has been renamed `dv`.).\n",
      "  print(model.docvecs.most_similar(0))\n"
     ]
    }
   ],
   "source": [
    "print(model.docvecs.most_similar(0))"
   ]
  },
  {
   "cell_type": "code",
   "execution_count": 16,
   "metadata": {},
   "outputs": [
    {
     "name": "stdout",
     "output_type": "stream",
     "text": [
      "['吾輩', 'も', '日本', 'の', '猫', 'だ', 'から', '多少', 'の', '愛国心', 'は', 'ある', '。']\n",
      "['吾輩', 'は', '猫', 'で', 'は', 'ある', 'が', '大抵', 'の', 'もの', 'は', '食う', '。']\n",
      "['吾輩', 'は', '猫', 'で', 'ある', '。']\n",
      "['吾輩', 'も', 'この', '頃', 'で', 'は', '普通', '一般', 'の', '猫', 'で', 'は', 'ない', '。']\n",
      "['吾輩', 'の', '取る', 'の', 'は', 'この', '蟻', 'の', '領分', 'に', '寝転ん', 'で', 'いる', '奴', 'で', 'は', 'ない', '。']\n",
      "['吾輩', 'は', '教師', 'の', '家', 'に', '住ん', 'で', 'いる', 'だけ', '、', 'こんな', '事', 'に関する', 'と', '両君', 'より', 'も', 'むしろ', '楽天', 'で', 'ある', '。']\n",
      "['吾輩', 'は', '淡泊', 'を', '愛する', '茶人', '的', '猫', 'で', 'ある', '。']\n",
      "['多感', '多恨', 'に', 'し', 'て', '日夜', '心神', 'を', '労する', '吾輩', 'ごとき', '者', 'は', '仮令', '猫', 'と', 'いえ', 'ども', '主人', '以上', 'に', '休養', 'を', '要する', 'は', '勿論', 'の', '事', 'で', 'ある', '。']\n",
      "['陰', '士', 'で', 'も', '吾輩', 'ほど', '夜陰', 'に', '眼', 'は', '利か', 'ぬ', 'と', '見える', '。']\n",
      "['これら', 'は', '吾輩', 'の', 'いわゆる', '旧式', '運動', 'なる', '者', 'で', 'ある', '。']\n"
     ]
    },
    {
     "name": "stderr",
     "output_type": "stream",
     "text": [
      "C:\\Users\\yuji_\\AppData\\Local\\Temp\\ipykernel_11104\\3535318242.py:1: DeprecationWarning: Call to deprecated `docvecs` (The `docvecs` property has been renamed `dv`.).\n",
      "  for p in model.docvecs.most_similar(0):\n"
     ]
    }
   ],
   "source": [
    "for p in model.docvecs.most_similar(0):\n",
    "    print(wagahai_words[p[0]])"
   ]
  },
  {
   "cell_type": "code",
   "execution_count": null,
   "metadata": {},
   "outputs": [],
   "source": []
  }
 ],
 "metadata": {
  "kernelspec": {
   "display_name": "Python 3",
   "language": "python",
   "name": "python3"
  },
  "language_info": {
   "codemirror_mode": {
    "name": "ipython",
    "version": 3
   },
   "file_extension": ".py",
   "mimetype": "text/x-python",
   "name": "python",
   "nbconvert_exporter": "python",
   "pygments_lexer": "ipython3",
   "version": "3.10.1"
  },
  "orig_nbformat": 4
 },
 "nbformat": 4,
 "nbformat_minor": 2
}
