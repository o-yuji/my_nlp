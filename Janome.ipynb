{
 "cells": [
  {
   "cell_type": "code",
   "execution_count": 12,
   "metadata": {},
   "outputs": [],
   "source": [
    "import re,pickle\n",
    "from janome.tokenizer import Tokenizer"
   ]
  },
  {
   "cell_type": "code",
   "execution_count": 13,
   "metadata": {},
   "outputs": [],
   "source": [
    "def textToWords(text):\n",
    "    text = re.sub(\"《[^》]+》\",\"\",text)\n",
    "    text = re.sub(\"【[^]+]】\",\"\",text)\n",
    "    text = re.sub(\"[「」　|\\n]\",\"\",text)\n",
    "\n",
    "    seperator = \"。\"\n",
    "    text_list = text.split(seperator)\n",
    "\n",
    "    t = Tokenizer()\n",
    "    words = []\n",
    "    for sentence in text_list:\n",
    "        words.append(list(t.tokenize(sentence,wakati=True)))\n",
    "\n",
    "    with open(\"./data/newWords.pickle\",\"wb\") as f:\n",
    "        pickle.dump(words,f)\n"
   ]
  },
  {
   "cell_type": "code",
   "execution_count": 14,
   "metadata": {},
   "outputs": [],
   "source": [
    "with open(\"./data/wagahaiwa_nekodearu.txt\",mode=\"r\",encoding=\"utf-8\") as f:\n",
    "  wagahai_original = f.read()"
   ]
  },
  {
   "cell_type": "code",
   "execution_count": 15,
   "metadata": {},
   "outputs": [],
   "source": [
    "textToWords(wagahai_original)"
   ]
  },
  {
   "cell_type": "code",
   "execution_count": 16,
   "metadata": {},
   "outputs": [
    {
     "name": "stdout",
     "output_type": "stream",
     "text": [
      "[['吾輩', 'は', '猫', 'で', 'ある'], ['名前', 'は', 'まだ', '無い']]\n"
     ]
    }
   ],
   "source": [
    "with open(\"./data/newWords.pickle\",\"rb\") as f:\n",
    "    wagahai_words = pickle.load(f)\n",
    "print(wagahai_words[:2])"
   ]
  },
  {
   "cell_type": "code",
   "execution_count": 17,
   "metadata": {},
   "outputs": [],
   "source": [
    "from gensim.models import word2vec"
   ]
  },
  {
   "cell_type": "code",
   "execution_count": 18,
   "metadata": {},
   "outputs": [],
   "source": [
    "model = word2vec.Word2Vec(\n",
    "    wagahai_words,\n",
    "    vector_size = 100,\n",
    "    min_count = 5,\n",
    "    window = 5,\n",
    "    epochs = 20,\n",
    "    sg = 0,\n",
    ")"
   ]
  },
  {
   "cell_type": "code",
   "execution_count": 19,
   "metadata": {},
   "outputs": [
    {
     "name": "stdout",
     "output_type": "stream",
     "text": [
      "(3351, 100)\n",
      "[[-0.8729195  -0.15787932  0.66140246 ... -0.2673085   0.201834\n",
      "   0.2817939 ]\n",
      " [-0.83868855  0.4674512  -0.09390387 ... -0.94457126 -1.3329856\n",
      "   0.22123514]\n",
      " [-0.57254404  0.298663    0.3805712  ... -1.0402544   0.5384641\n",
      "  -0.5327017 ]\n",
      " ...\n",
      " [-0.20675874  0.17718895 -0.01035172 ... -0.15477373 -0.0273036\n",
      "  -0.08677949]\n",
      " [-0.13624665  0.08977344 -0.04096837 ... -0.0429566  -0.04364458\n",
      "  -0.02132391]\n",
      " [-0.2568871   0.10417002 -0.02762192 ... -0.18603489  0.02581191\n",
      "  -0.04042498]]\n"
     ]
    }
   ],
   "source": [
    "print(model.wv.vectors.shape)\n",
    "print(model.wv.vectors)"
   ]
  },
  {
   "cell_type": "code",
   "execution_count": 20,
   "metadata": {},
   "outputs": [
    {
     "name": "stdout",
     "output_type": "stream",
     "text": [
      "3351\n",
      "['の', 'て', '、', 'に']\n"
     ]
    }
   ],
   "source": [
    "print(len(model.wv.index_to_key))\n",
    "print(model.wv.index_to_key[:4])"
   ]
  },
  {
   "cell_type": "code",
   "execution_count": 21,
   "metadata": {},
   "outputs": [
    {
     "name": "stdout",
     "output_type": "stream",
     "text": [
      "[-0.8729195  -0.15787932  0.66140246  0.25933507 -1.5687203   0.40362045\n",
      "  0.2652638   0.16017683 -0.33082148 -0.12873554  0.24850586  0.1715102\n",
      "  0.11631247 -0.20005113 -0.9538881  -0.02318425 -0.37491703 -0.330247\n",
      " -0.47138414  0.22570907  0.26643673  0.19234857  0.8122489  -0.8686416\n",
      " -0.49978486 -0.29664403  0.6111641   0.25056452 -0.01308375 -0.33243725\n",
      " -0.08966189 -0.56099975  0.6734196   0.2168586   0.43009484 -0.24378628\n",
      "  0.20576906 -1.3983612   0.2816132   0.05981953 -0.1836564   0.21405669\n",
      " -0.45556304 -0.14092511 -0.07182103  0.17339164  0.05318012  0.69290644\n",
      "  0.40710765  0.23072982 -0.40346247  0.24576183  0.3540368  -0.0836683\n",
      "  0.25652814 -0.29778257 -0.09547439  0.2234872  -0.2900447   0.1896612\n",
      "  0.2523877   1.0973657  -0.68365544 -0.9070066   0.33780646  0.14212166\n",
      "  0.09793854  1.076369   -0.5242488  -0.04818152  0.51900727  1.1851277\n",
      "  0.35349914 -1.0453597  -0.16083673  0.27978536  0.9602716   0.1913727\n",
      " -0.10478798  0.38777047 -0.263614   -0.06414632  0.12843093  1.1838428\n",
      " -0.88881165 -0.1315423   0.05741407  0.27709872 -0.7769639   0.25820515\n",
      "  0.3141081   0.8242217  -0.3675384   0.38047293  1.5866952   0.20925295\n",
      "  0.2218811  -0.2673085   0.201834    0.2817939 ]\n",
      "[-0.8729195  -0.15787932  0.66140246  0.25933507 -1.5687203   0.40362045\n",
      "  0.2652638   0.16017683 -0.33082148 -0.12873554  0.24850586  0.1715102\n",
      "  0.11631247 -0.20005113 -0.9538881  -0.02318425 -0.37491703 -0.330247\n",
      " -0.47138414  0.22570907  0.26643673  0.19234857  0.8122489  -0.8686416\n",
      " -0.49978486 -0.29664403  0.6111641   0.25056452 -0.01308375 -0.33243725\n",
      " -0.08966189 -0.56099975  0.6734196   0.2168586   0.43009484 -0.24378628\n",
      "  0.20576906 -1.3983612   0.2816132   0.05981953 -0.1836564   0.21405669\n",
      " -0.45556304 -0.14092511 -0.07182103  0.17339164  0.05318012  0.69290644\n",
      "  0.40710765  0.23072982 -0.40346247  0.24576183  0.3540368  -0.0836683\n",
      "  0.25652814 -0.29778257 -0.09547439  0.2234872  -0.2900447   0.1896612\n",
      "  0.2523877   1.0973657  -0.68365544 -0.9070066   0.33780646  0.14212166\n",
      "  0.09793854  1.076369   -0.5242488  -0.04818152  0.51900727  1.1851277\n",
      "  0.35349914 -1.0453597  -0.16083673  0.27978536  0.9602716   0.1913727\n",
      " -0.10478798  0.38777047 -0.263614   -0.06414632  0.12843093  1.1838428\n",
      " -0.88881165 -0.1315423   0.05741407  0.27709872 -0.7769639   0.25820515\n",
      "  0.3141081   0.8242217  -0.3675384   0.38047293  1.5866952   0.20925295\n",
      "  0.2218811  -0.2673085   0.201834    0.2817939 ]\n"
     ]
    }
   ],
   "source": [
    "print(model.wv.vectors[0])\n",
    "print(model.wv.__getitem__(\"の\"))"
   ]
  },
  {
   "cell_type": "code",
   "execution_count": 22,
   "metadata": {},
   "outputs": [
    {
     "name": "stdout",
     "output_type": "stream",
     "text": [
      "[('人間', 0.7245374321937561), ('教師', 0.6979549527168274), ('君子', 0.6854879856109619), ('充分', 0.6774835586547852), ('逆上', 0.6725793480873108), ('本人', 0.6450510025024414), ('罪', 0.6346117258071899), ('動物', 0.6286435127258301), ('世間', 0.6271816492080688), ('一般', 0.6193382143974304)]\n"
     ]
    }
   ],
   "source": [
    "print(model.wv.most_similar(\"猫\"))"
   ]
  },
  {
   "cell_type": "code",
   "execution_count": 24,
   "metadata": {},
   "outputs": [],
   "source": [
    "import numpy as np"
   ]
  },
  {
   "cell_type": "code",
   "execution_count": 25,
   "metadata": {},
   "outputs": [
    {
     "name": "stdout",
     "output_type": "stream",
     "text": [
      "0.7245375\n"
     ]
    }
   ],
   "source": [
    "a = model.wv.__getitem__('猫')\n",
    "b = model.wv.__getitem__('人間')\n",
    "cos_sim = np.dot(a,b)/np.linalg.norm(a)/np.linalg.norm(b)\n",
    "print(cos_sim)"
   ]
  },
  {
   "cell_type": "code",
   "execution_count": 26,
   "metadata": {},
   "outputs": [
    {
     "data": {
      "text/plain": [
       "[('逆上', 0.771516740322113),\n",
       " ('君子', 0.770756721496582),\n",
       " ('世間', 0.759636402130127),\n",
       " ('充分', 0.7345070242881775),\n",
       " ('事実', 0.7130858302116394),\n",
       " ('彼等', 0.7109562158584595),\n",
       " ('動物', 0.7026592493057251),\n",
       " ('本人', 0.6950827836990356),\n",
       " ('教師', 0.688463032245636),\n",
       " ('一般', 0.688091516494751)]"
      ]
     },
     "execution_count": 26,
     "metadata": {},
     "output_type": "execute_result"
    }
   ],
   "source": [
    "model.wv.most_similar(positive=['猫','人間'])"
   ]
  },
  {
   "cell_type": "code",
   "execution_count": 27,
   "metadata": {},
   "outputs": [
    {
     "data": {
      "text/plain": [
       "[('教師', 0.7083929181098938),\n",
       " ('芸術', 0.6811930537223816),\n",
       " ('君子', 0.6618895530700684),\n",
       " ('充分', 0.6544024348258972),\n",
       " ('実業', 0.62453293800354),\n",
       " ('家', 0.6181164979934692),\n",
       " ('出来る', 0.617882490158081),\n",
       " ('事実', 0.609535276889801),\n",
       " ('罪', 0.6042826175689697),\n",
       " ('世間', 0.6011515259742737)]"
      ]
     },
     "execution_count": 27,
     "metadata": {},
     "output_type": "execute_result"
    }
   ],
   "source": [
    "model.wv.most_similar(positive=['人間','猫'],negative=['夢'])"
   ]
  },
  {
   "cell_type": "code",
   "execution_count": 28,
   "metadata": {},
   "outputs": [
    {
     "data": {
      "text/plain": [
       "[('えらい', 0.6548981666564941),\n",
       " ('嫌', 0.6288498044013977),\n",
       " ('しかし', 0.5983120799064636),\n",
       " ('月並', 0.5797993540763855),\n",
       " ('なかなか', 0.5762020349502563),\n",
       " ('家', 0.5730352997779846),\n",
       " ('伯父', 0.5675895810127258),\n",
       " ('いえ', 0.5655837059020996),\n",
       " ('死ぬ', 0.5648002624511719),\n",
       " ('あれ', 0.5566771626472473)]"
      ]
     },
     "execution_count": 28,
     "metadata": {},
     "output_type": "execute_result"
    }
   ],
   "source": [
    "model.wv.most_similar(positive=['教師'],negative=['夢'])"
   ]
  },
  {
   "cell_type": "code",
   "execution_count": null,
   "metadata": {},
   "outputs": [],
   "source": []
  }
 ],
 "metadata": {
  "kernelspec": {
   "display_name": "Python 3",
   "language": "python",
   "name": "python3"
  },
  "language_info": {
   "codemirror_mode": {
    "name": "ipython",
    "version": 3
   },
   "file_extension": ".py",
   "mimetype": "text/x-python",
   "name": "python",
   "nbconvert_exporter": "python",
   "pygments_lexer": "ipython3",
   "version": "3.10.1"
  },
  "orig_nbformat": 4
 },
 "nbformat": 4,
 "nbformat_minor": 2
}
