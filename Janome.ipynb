{
 "cells": [
  {
   "cell_type": "code",
   "execution_count": 1,
   "metadata": {},
   "outputs": [],
   "source": [
    "import re,pickle\n",
    "from janome.tokenizer import Tokenizer"
   ]
  },
  {
   "cell_type": "code",
   "execution_count": 2,
   "metadata": {},
   "outputs": [],
   "source": [
    "def textToWords(text):\n",
    "    text = re.sub(\"《[^》]+》\",\"\",text)\n",
    "    text = re.sub(\"【[^]+]】\",\"\",text)\n",
    "    text = re.sub(\"[「」　|\\n]\",\"\",text)\n",
    "\n",
    "    seperator = \"。\"\n",
    "    text_list = text.split(seperator)\n",
    "\n",
    "    t = Tokenizer()\n",
    "    words = []\n",
    "    for sentence in text_list:\n",
    "        words.append(list(t.tokenize(sentence,wakati=True)))\n",
    "\n",
    "    with open(\"./data/newWords.pickle\",\"wb\") as f:\n",
    "        pickle.dump(words,f)\n"
   ]
  },
  {
   "cell_type": "code",
   "execution_count": 3,
   "metadata": {},
   "outputs": [],
   "source": [
    "with open(\"./data/wagahaiwa_nekodearu.txt\",mode=\"r\",encoding=\"utf-8\") as f:\n",
    "  wagahai_original = f.read()"
   ]
  },
  {
   "cell_type": "code",
   "execution_count": 4,
   "metadata": {},
   "outputs": [],
   "source": [
    "textToWords(wagahai_original)"
   ]
  },
  {
   "cell_type": "code",
   "execution_count": 5,
   "metadata": {},
   "outputs": [
    {
     "name": "stdout",
     "output_type": "stream",
     "text": [
      "[['吾輩', 'は', '猫', 'で', 'ある'], ['名前', 'は', 'まだ', '無い']]\n"
     ]
    }
   ],
   "source": [
    "with open(\"./data/newWords.pickle\",\"rb\") as f:\n",
    "    wagahai_words = pickle.load(f)\n",
    "print(wagahai_words[:2])"
   ]
  },
  {
   "cell_type": "code",
   "execution_count": 6,
   "metadata": {},
   "outputs": [],
   "source": [
    "from gensim.models import word2vec"
   ]
  },
  {
   "cell_type": "code",
   "execution_count": 7,
   "metadata": {},
   "outputs": [],
   "source": [
    "model = word2vec.Word2Vec(\n",
    "    wagahai_words,\n",
    "    vector_size = 100,\n",
    "    min_count = 5,\n",
    "    window = 5,\n",
    "    epochs = 100,\n",
    "    sg = 0,\n",
    ")"
   ]
  },
  {
   "cell_type": "code",
   "execution_count": 8,
   "metadata": {},
   "outputs": [
    {
     "name": "stdout",
     "output_type": "stream",
     "text": [
      "(3351, 100)\n",
      "[[-0.2770537  -0.31705076  0.4392036  ... -0.19596034  0.5784601\n",
      "   0.23070416]\n",
      " [-1.0834514  -0.98315823 -0.03165173 ... -0.79132444 -0.11590053\n",
      "   0.3880414 ]\n",
      " [-0.516975   -0.64333946 -0.38470998 ...  0.2120188   0.5673628\n",
      "   0.10039594]\n",
      " ...\n",
      " [-0.13033871  0.8121618   0.39268625 ... -0.61305827 -0.25194404\n",
      "   0.20666587]\n",
      " [-1.0291973  -0.07982052 -1.1671735  ... -0.2529193   0.19114962\n",
      "  -0.24886039]\n",
      " [-0.9184148   0.8202408  -0.6172106  ... -0.15071075  0.8016627\n",
      "   0.27064514]]\n"
     ]
    }
   ],
   "source": [
    "print(model.wv.vectors.shape)\n",
    "print(model.wv.vectors)"
   ]
  },
  {
   "cell_type": "code",
   "execution_count": 9,
   "metadata": {},
   "outputs": [
    {
     "name": "stdout",
     "output_type": "stream",
     "text": [
      "3351\n",
      "['の', 'て', '、', 'に']\n"
     ]
    }
   ],
   "source": [
    "print(len(model.wv.index_to_key))\n",
    "print(model.wv.index_to_key[:4])"
   ]
  },
  {
   "cell_type": "code",
   "execution_count": 10,
   "metadata": {},
   "outputs": [
    {
     "name": "stdout",
     "output_type": "stream",
     "text": [
      "[-2.7705371e-01 -3.1705076e-01  4.3920359e-01  7.8612816e-01\n",
      " -5.9707922e-01 -7.6011395e-01 -2.5776383e-01  2.8121697e-03\n",
      " -2.9170376e-01 -1.8429683e-01  2.6866108e-01 -3.1428641e-01\n",
      " -3.7811458e-01 -4.5760599e-01 -9.5641948e-02  1.0882348e-03\n",
      " -2.4714802e-01  7.4590224e-01 -4.8557773e-01  4.9034926e-01\n",
      " -3.2186785e-03  6.5374672e-01  9.8077410e-01  5.9554297e-01\n",
      " -4.3210842e-02 -2.1998109e-03  9.0379632e-01 -9.5620029e-02\n",
      " -3.4818971e-01  4.0247944e-01 -1.6618419e-01  2.7975586e-01\n",
      "  9.9669927e-01 -1.5384904e-02  3.3207078e-02 -1.8490021e-01\n",
      "  5.1350582e-01 -1.1717829e+00 -5.6097275e-01 -3.9823380e-01\n",
      " -4.4165856e-01  5.4175305e-01 -1.0066607e+00  3.2049426e-01\n",
      "  1.1361898e-01  6.2924780e-02 -9.2450219e-01  2.9002783e-01\n",
      "  1.1614928e+00  2.4832124e-02 -3.0708374e-02 -2.4502965e-02\n",
      "  1.7985053e-01  6.7127365e-01  2.2870077e-01 -4.3805116e-01\n",
      "  3.0241278e-01 -2.8365159e-01  6.9020979e-02 -4.0585291e-01\n",
      "  3.1186953e-01  8.2982086e-02 -1.7140931e-01 -9.0551585e-01\n",
      " -7.3295593e-01  8.5584241e-01 -5.4344100e-01  1.4282410e+00\n",
      " -7.7845138e-01  4.3569696e-01  6.9307232e-01  3.2080099e-01\n",
      " -5.1127672e-01 -2.2912102e-02 -2.5030753e-01  4.1038819e-02\n",
      "  3.5171363e-01  2.5075266e-01  3.9632839e-01  9.4059849e-01\n",
      " -6.0870868e-01  4.3249923e-01 -5.6311958e-02  5.5153805e-01\n",
      " -5.4580384e-01 -4.8704472e-01  1.4409848e-01 -7.5659737e-02\n",
      " -5.5712800e-02  9.1155660e-01 -1.7594947e-01  4.1589642e-01\n",
      "  1.7520522e-01 -2.6927266e-01  7.4203843e-01  9.0061653e-01\n",
      " -4.6231458e-01 -1.9596034e-01  5.7846010e-01  2.3070416e-01]\n",
      "[-2.7705371e-01 -3.1705076e-01  4.3920359e-01  7.8612816e-01\n",
      " -5.9707922e-01 -7.6011395e-01 -2.5776383e-01  2.8121697e-03\n",
      " -2.9170376e-01 -1.8429683e-01  2.6866108e-01 -3.1428641e-01\n",
      " -3.7811458e-01 -4.5760599e-01 -9.5641948e-02  1.0882348e-03\n",
      " -2.4714802e-01  7.4590224e-01 -4.8557773e-01  4.9034926e-01\n",
      " -3.2186785e-03  6.5374672e-01  9.8077410e-01  5.9554297e-01\n",
      " -4.3210842e-02 -2.1998109e-03  9.0379632e-01 -9.5620029e-02\n",
      " -3.4818971e-01  4.0247944e-01 -1.6618419e-01  2.7975586e-01\n",
      "  9.9669927e-01 -1.5384904e-02  3.3207078e-02 -1.8490021e-01\n",
      "  5.1350582e-01 -1.1717829e+00 -5.6097275e-01 -3.9823380e-01\n",
      " -4.4165856e-01  5.4175305e-01 -1.0066607e+00  3.2049426e-01\n",
      "  1.1361898e-01  6.2924780e-02 -9.2450219e-01  2.9002783e-01\n",
      "  1.1614928e+00  2.4832124e-02 -3.0708374e-02 -2.4502965e-02\n",
      "  1.7985053e-01  6.7127365e-01  2.2870077e-01 -4.3805116e-01\n",
      "  3.0241278e-01 -2.8365159e-01  6.9020979e-02 -4.0585291e-01\n",
      "  3.1186953e-01  8.2982086e-02 -1.7140931e-01 -9.0551585e-01\n",
      " -7.3295593e-01  8.5584241e-01 -5.4344100e-01  1.4282410e+00\n",
      " -7.7845138e-01  4.3569696e-01  6.9307232e-01  3.2080099e-01\n",
      " -5.1127672e-01 -2.2912102e-02 -2.5030753e-01  4.1038819e-02\n",
      "  3.5171363e-01  2.5075266e-01  3.9632839e-01  9.4059849e-01\n",
      " -6.0870868e-01  4.3249923e-01 -5.6311958e-02  5.5153805e-01\n",
      " -5.4580384e-01 -4.8704472e-01  1.4409848e-01 -7.5659737e-02\n",
      " -5.5712800e-02  9.1155660e-01 -1.7594947e-01  4.1589642e-01\n",
      "  1.7520522e-01 -2.6927266e-01  7.4203843e-01  9.0061653e-01\n",
      " -4.6231458e-01 -1.9596034e-01  5.7846010e-01  2.3070416e-01]\n"
     ]
    }
   ],
   "source": [
    "print(model.wv.vectors[0])\n",
    "print(model.wv.__getitem__(\"の\"))"
   ]
  },
  {
   "cell_type": "code",
   "execution_count": null,
   "metadata": {},
   "outputs": [],
   "source": []
  }
 ],
 "metadata": {
  "kernelspec": {
   "display_name": "Python 3",
   "language": "python",
   "name": "python3"
  },
  "language_info": {
   "codemirror_mode": {
    "name": "ipython",
    "version": 3
   },
   "file_extension": ".py",
   "mimetype": "text/x-python",
   "name": "python",
   "nbconvert_exporter": "python",
   "pygments_lexer": "ipython3",
   "version": "3.10.1"
  },
  "orig_nbformat": 4
 },
 "nbformat": 4,
 "nbformat_minor": 2
}
